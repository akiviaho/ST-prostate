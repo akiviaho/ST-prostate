{
 "cells": [
  {
   "cell_type": "markdown",
   "metadata": {},
   "source": [
    "## Imports & function definitions"
   ]
  },
  {
   "cell_type": "code",
   "execution_count": 1,
   "metadata": {},
   "outputs": [],
   "source": [
    "import os \n",
    "os.chdir('/lustre/scratch/kiviaho/prostate_spatial/')\n",
    "\n",
    "import scanpy as sc\n",
    "import numpy as np\n",
    "import pandas as pd\n",
    "import anndata as ad\n",
    "import squidpy as sq\n",
    "\n",
    "\n",
    "from scipy.stats import fisher_exact\n",
    "import matplotlib.pyplot as plt\n",
    "from scripts.utils import load_from_pickle, get_sample_ids_reorder, get_sample_crop_coords, get_sample_id_mask, save_to_pickle\n",
    "from statsmodels.stats.multitest import multipletests\n",
    "\n",
    "from itertools import combinations\n",
    "from scipy.stats import ranksums,kruskal\n",
    "\n",
    "import seaborn as sns\n",
    "sns.set_theme()\n",
    "\n",
    "sc.set_figure_params(figsize=(6,6))\n",
    "\n",
    "import warnings\n",
    "warnings.filterwarnings(\"ignore\")\n",
    "\n",
    "samples = get_sample_ids_reorder()\n",
    "sample_crop_coord = get_sample_crop_coords()\n",
    "sample_id_masks = get_sample_id_mask()\n",
    "\n",
    "sample_categories_dict = {\n",
    "    'BPH':get_sample_ids_reorder('BPH'),\n",
    "    'TRNA':get_sample_ids_reorder('untreated'),\n",
    "    'NEADT':get_sample_ids_reorder(['goserelin','bicalutamide','degarelix','degarelix_apalutamide']),\n",
    "    'CRPC': get_sample_ids_reorder('CRPC')\n",
    "}\n",
    "\n",
    "region_colors_dict = {\n",
    " 'Tumor': '#fc8d62',\n",
    " 'Luminal epithelium': '#8da0cb',\n",
    " 'Basal epithelium': '#66c2a5',\n",
    " 'Club epithelium': '#ffd92f',\n",
    " 'Immune': '#a6d854',\n",
    " 'Endothelium': '#e78ac3',\n",
    " 'Fibroblast': '#e5c494',\n",
    " 'Muscle': '#b3b3b3'\n",
    " }\n"
   ]
  },
  {
   "cell_type": "markdown",
   "metadata": {},
   "source": [
    "## Downloading ligand-receptor interactions results"
   ]
  },
  {
   "cell_type": "code",
   "execution_count": 2,
   "metadata": {},
   "outputs": [],
   "source": [
    "def get_ligrec_results(results_dict,source_region, target_region, pval = 0.05,reverse=False):\n",
    "    # Function only reports those means that have a below-threshold p-value\n",
    "\n",
    "    if reverse:\n",
    "        source = source_region\n",
    "        source_region = target_region\n",
    "        target_region = source\n",
    "\n",
    "    for i,s in enumerate(list(results_dict.keys())):\n",
    "        means = results_dict[s]['means'][source_region][target_region]\n",
    "        pvals = results_dict[s]['pvalues'][source_region][target_region]\n",
    "        means = pd.DataFrame(means[pvals[pvals<pval].index])\n",
    "        means = means.rename(columns={target_region:s})\n",
    "        meta = results_dict[s]['metadata'].loc[means.index]\n",
    "\n",
    "        if i==0:\n",
    "            means_all = means\n",
    "            metas_all = meta\n",
    "        else:\n",
    "            means_all = pd.merge(means_all,means,how='outer',left_index=True,right_index=True)\n",
    "            metas_all = pd.concat([metas_all,meta],axis=0)\n",
    "\n",
    "    # Drop duplicate indices\n",
    "    metas_all.drop_duplicates(inplace=True)\n",
    "\n",
    "    return pd.DataFrame(means_all), metas_all\n",
    "\n",
    "def summarize_ligrec_results(ligrec_results,ligrec_meta,score_filter=10):\n",
    "    ## Summarize the ligand-receptor pair results\n",
    "    df_sum = ligrec_results.copy()\n",
    "    n_samples = df_sum.shape[1]\n",
    "    active_in = (~df_sum.isna()).sum(axis=1)\n",
    "    mean_activity = df_sum.mean(axis=1)\n",
    "    summarized_ligrec_results = pd.DataFrame({'mean':mean_activity,'active_in':active_in})\n",
    "\n",
    "    # Included n_references filtering\n",
    "    valid_meta = ligrec_meta[ligrec_meta['n_references']>= 3]\n",
    "    \n",
    "    summarized_ligrec_df = summarized_ligrec_results.loc[valid_meta.index.drop_duplicates()]\n",
    "\n",
    "    # Add columns for ligands and receptors\n",
    "    summarized_ligrec_df['ligand'] = summarized_ligrec_df.index.get_level_values(0)\n",
    "    summarized_ligrec_df['receptor'] = summarized_ligrec_df.index.get_level_values(1)\n",
    "\n",
    "    summarized_ligrec_df = summarized_ligrec_df.sort_values(summarized_ligrec_df.columns[1],ascending=False)\n",
    "\n",
    "    return summarized_ligrec_df\n",
    "\n",
    "def check_top_markers(r,p_thresh=0.05):\n",
    "    # These results rank the deg significance and specificity (low p-value = good marker)\n",
    "    deg_fishers_res_dict = load_from_pickle('./data/region_gene_markers_fishers_exact_test_240229.pkl')\n",
    "\n",
    "    fishers_test_df = deg_fishers_res_dict[r].rename(columns={'interaction':'gene','active_in':'deg in'})\n",
    "    fishers_test_df = fishers_test_df.sort_values('adj_pval').reset_index(drop=True)\n",
    "    fishers_test_df = fishers_test_df[fishers_test_df['adj_pval'] < p_thresh]\n",
    "\n",
    "    return fishers_test_df\n",
    "\n",
    "# Run the function straight off\n",
    "club_markers_df = check_top_markers('Club epithelium')\n",
    "marker_genes = club_markers_df['gene'].tolist()\n"
   ]
  },
  {
   "cell_type": "markdown",
   "metadata": {},
   "source": [
    "## Ligand-receptor interaction region-specific prevalences (Figure 4g)"
   ]
  },
  {
   "cell_type": "markdown",
   "metadata": {},
   "source": [
    "### Club region as source with all other regions as target"
   ]
  },
  {
   "cell_type": "code",
   "execution_count": 3,
   "metadata": {},
   "outputs": [],
   "source": [
    "interact_with = ['Tumor','Luminal epithelium','Basal epithelium','Immune','Fibroblast','Muscle'] # Endothelium excluded due to n\n",
    "\n",
    "# Club as source in all samples\n",
    "source = 'Club epithelium'\n",
    "\n",
    "results_dict = {}\n",
    "n_interfaces = {}\n",
    "for target in interact_with:\n",
    "    dat_dict = load_from_pickle('./data/region_ligrec_analysis/{}_{}_slides_with_ligrec.pkl'.format(source,target))\n",
    "    \n",
    "    ligrec_results_out,ligrec_meta_out = get_ligrec_results(dat_dict,source,target,reverse=False)\n",
    "\n",
    "    summarized_df = summarize_ligrec_results(ligrec_results_out,ligrec_meta_out)\n",
    "    summarized_df['interaction'] = target\n",
    "    summarized_df['active_in'] = summarized_df['active_in']/len(dat_dict) # Define whether to normalize by the number samples with region interfaces\n",
    "\n",
    "    results_dict[target] = summarized_df\n",
    "    n_interfaces[target] = ligrec_results_out.shape[1]\n",
    "    \n",
    "club_as_source_ligrec = results_dict.copy()\n",
    "total_n_interfaces = sum(n_interfaces.values())"
   ]
  },
  {
   "cell_type": "code",
   "execution_count": 5,
   "metadata": {},
   "outputs": [],
   "source": [
    "# Format the data for plotting\n",
    "\n",
    "# Only include genes that are marker genes in the Club region\n",
    "df = pd.concat(club_as_source_ligrec)\n",
    "df = df[df['ligand'].isin(marker_genes)]\n",
    "\n",
    "ligands_to_include = df['ligand'].unique()\n",
    "\n",
    "df = df[df['ligand'].isin(ligands_to_include)]\n",
    "receptors = sorted(df['receptor'].unique())\n",
    "\n",
    "df['interaction'] = df['interaction'].astype('category').cat.set_categories(interact_with)\n"
   ]
  },
  {
   "cell_type": "code",
   "execution_count": 9,
   "metadata": {},
   "outputs": [
    {
     "data": {
      "image/png": "[encoded data removed]",
      "text/plain": [
       "<Figure size 288x288 with 1 Axes>"
      ]
     },
     "metadata": {},
     "output_type": "display_data"
    }
   ],
   "source": [
    "\n",
    "# Create a pivot table to check for missing interactions\n",
    "pivot_df = df.pivot_table(index=['ligand', 'receptor'], columns='interaction', values='active_in', fill_value=0)\n",
    "\n",
    "# Convert the pivot table back to a dataframe\n",
    "result_df = pivot_df.stack().reset_index()\n",
    "result_df.columns = ['ligand', 'receptor', 'interaction', 'active_in']\n",
    "\n",
    "# Create a title with key numbers\n",
    "title = 'Unique ligands: {}, receptors: {}, interactions: {}'.format(\n",
    "    len(result_df['ligand'].unique()),\n",
    "    len(result_df['receptor'].unique()),\n",
    "    len((result_df['ligand']+'_'+result_df['receptor']).unique())\n",
    "    )\n",
    "\n",
    "# Plot the boxplot\n",
    "sns.set_theme(\n",
    "            style='whitegrid',\n",
    "            font_scale=0.8\n",
    "            )\n",
    "sns.set_palette(palette=sns.color_palette([region_colors_dict[r] for r in interact_with]))\n",
    "\n",
    "fig, ax = plt.subplots(figsize=(4,4))\n",
    "sns.stripplot(result_df,x='interaction',y='active_in',size=4,hue='interaction',ax=ax,legend=False)\n",
    "sns.boxplot(showmeans=False,\n",
    "        meanline=False,\n",
    "        meanprops={'color': 'k', 'ls': '-', 'lw': 2},\n",
    "        medianprops={'visible': True},\n",
    "        whiskerprops={'visible': True},\n",
    "        zorder=10,\n",
    "        x=\"interaction\",\n",
    "        y=\"active_in\",\n",
    "        data=result_df,\n",
    "        showfliers=False,\n",
    "        showbox=True,\n",
    "        showcaps=True,\n",
    "        color='whitesmoke',\n",
    "        width=0.6,\n",
    "        ax=ax)\n",
    "\n",
    "ax.set_ylim(-0.05,1.05)\n",
    "ax.set_xticklabels('')\n",
    "ax.set_title(title)\n",
    "\n",
    "plt.tight_layout()\n",
    "\n",
    "plt.savefig('./plots/receptor_ligand_interaction_analysis/Club_epithelium_as_source_ligrec_pct.pdf')\n",
    "plt.show()\n",
    "\n",
    "plot_df = result_df.copy()\n",
    "plot_df['direction'] = 'club_as_source'\n"
   ]
  },
  {
   "cell_type": "code",
   "execution_count": 10,
   "metadata": {},
   "outputs": [],
   "source": [
    "\n",
    "result_df['n_interfaces_with_club'] = result_df['interaction'].map(n_interfaces)\n",
    "\n",
    "\n",
    "# Calculate p-values for overrepresentation of individual pathways\n",
    "list_of_pvals = []\n",
    "for i, row in result_df.iterrows():\n",
    "    df = result_df[(result_df['ligand'] == row['ligand']) & (result_df['receptor'] == row['receptor'])]\n",
    "    df = df[~(df['interaction'] ==row['interaction'])]\n",
    "\n",
    "    a = row['active_in'] * row['n_interfaces_with_club']\n",
    "    b = row['n_interfaces_with_club'] - a\n",
    "    c = (df['active_in'] * df['n_interfaces_with_club']).sum()\n",
    "    d = df['n_interfaces_with_club'].sum() - c\n",
    "\n",
    "    arr = np.array([[a,b],[c,d]])\n",
    "    arr\n",
    "\n",
    "    stat, pval = fisher_exact(arr,alternative='greater')\n",
    "\n",
    "    list_of_pvals.append(pval)\n",
    "\n",
    "result_df['overrep_test_adj_pval'] = multipletests(list_of_pvals,method='fdr_bh')[1]\n",
    "\n",
    "result_df = result_df.sort_values('overrep_test_adj_pval',ascending=True).reset_index(drop=True)\n",
    "\n",
    "\n",
    "dict_with_final_ligrec_results = {}\n",
    "dict_with_final_ligrec_results['club_as_source'] = result_df\n",
    "\n",
    "# Save the results\n",
    "result_df.to_excel('./source_data/club_as_source_ligand_receptor_activity.xlsx')\n"
   ]
  },
  {
   "cell_type": "code",
   "execution_count": 11,
   "metadata": {},
   "outputs": [
    {
     "name": "stdout",
     "output_type": "stream",
     "text": [
      "Kruskal-Wallis H-test: test statistic = 19.1446, p-value = 0.0018\n",
      "             Category1           Category2  TestStatistic   p-value\n",
      "0               Immune               Tumor       3.285131  0.001019\n",
      "1           Fibroblast  Luminal epithelium       2.999547  0.002704\n",
      "2           Fibroblast               Tumor       2.936903  0.003315\n",
      "3   Luminal epithelium              Immune      -2.741601  0.006114\n",
      "4   Luminal epithelium    Basal epithelium      -2.052516  0.040120\n",
      "5               Muscle               Tumor       1.943810  0.051918\n",
      "6   Luminal epithelium              Muscle      -1.908803  0.056288\n",
      "7     Basal epithelium               Tumor       1.781672  0.074803\n",
      "8           Fibroblast    Basal epithelium       1.556890  0.119497\n",
      "9               Immune    Basal epithelium       1.536623  0.124386\n",
      "10          Fibroblast              Muscle       0.923079  0.355966\n",
      "11              Immune              Muscle       0.875175  0.381479\n",
      "12              Muscle    Basal epithelium       0.709352  0.478106\n",
      "13          Fibroblast              Immune       0.149240  0.881364\n",
      "14  Luminal epithelium               Tumor       0.003685  0.997060\n"
     ]
    }
   ],
   "source": [
    "# Test whether the number of signficant signaling routes differs \n",
    "# 1) Between all the regions (Kruskal-Wallis)\n",
    "# 2) Between individual regions (Wilcoxon)\n",
    "\n",
    "# Perform Kruskal-Wallis H-test\n",
    "interaction_categories = result_df['interaction'].unique()\n",
    "grouped_data = [result_df[result_df['interaction'] == category]['active_in'] for category in interaction_categories]\n",
    "test_statistic, p_value = kruskal(*grouped_data)\n",
    "print(f\"Kruskal-Wallis H-test: test statistic = {test_statistic:.4f}, p-value = {p_value:.4f}\")\n",
    "\n",
    "\n",
    "# Perform pairwise Wilcoxon rank-sums tests\n",
    "interaction_categories = result_df['interaction'].unique()\n",
    "pairwise_tests = list(combinations(interaction_categories, 2))\n",
    "\n",
    "# Collect p-values and test statistics\n",
    "test_results = []\n",
    "for category1, category2 in pairwise_tests:\n",
    "    group1 = result_df[result_df['interaction'] == category1]['active_in']\n",
    "    group2 = result_df[result_df['interaction'] == category2]['active_in']\n",
    "    test_statistic, p_value = ranksums(group1, group2)\n",
    "    test_results.append({'Category1': category1, 'Category2': category2, 'TestStatistic': test_statistic, 'p-value': p_value})\n",
    "\n",
    "# Create a dataframe from the test results\n",
    "test_results = pd.DataFrame(test_results).sort_values('p-value').reset_index(drop=True)\n",
    "print(test_results)\n"
   ]
  },
  {
   "cell_type": "code",
   "execution_count": 77,
   "metadata": {},
   "outputs": [],
   "source": [
    "# Write the results\n",
    "pd.concat(club_as_source_ligrec).to_csv('./plots/receptor_ligand_interaction_analysis/{}_as_source_ligand_receptor_results.csv'.format(source.replace(' ','_')))"
   ]
  },
  {
   "cell_type": "markdown",
   "metadata": {},
   "source": [
    "### Club region as target with all other regions as source"
   ]
  },
  {
   "cell_type": "code",
   "execution_count": 12,
   "metadata": {},
   "outputs": [],
   "source": [
    "\n",
    "# Club as target in all samples\n",
    "source = 'Club epithelium'\n",
    "\n",
    "results_dict = {}\n",
    "for target in interact_with:\n",
    "    dat_dict = load_from_pickle('./data/region_ligrec_analysis/{}_{}_slides_with_ligrec.pkl'.format(source,target))\n",
    "    \n",
    "    ligrec_results_out,ligrec_meta_out = get_ligrec_results(dat_dict,source,target,reverse=True) ### REVERSE SWITCH DICTATES WHETHER NAG IS THE SOURCE OR THE TARGET\n",
    "\n",
    "    summarized_df = summarize_ligrec_results(ligrec_results_out,ligrec_meta_out)\n",
    "    summarized_df['interaction'] = target\n",
    "    summarized_df['active_in'] = summarized_df['active_in']/len(dat_dict) # Define whether to normalize by the number samples with region interfaces\n",
    "\n",
    "    results_dict[target] = summarized_df\n",
    "\n",
    "club_as_target_ligrec = results_dict.copy()\n",
    "    "
   ]
  },
  {
   "cell_type": "code",
   "execution_count": 13,
   "metadata": {},
   "outputs": [],
   "source": [
    "df = pd.concat(club_as_target_ligrec)\n",
    "df = df[df['receptor'].isin(marker_genes)]\n",
    "\n",
    "receptors_to_include = df['receptor'].unique()\n",
    "\n",
    "df = df[df['receptor'].isin(receptors_to_include)]\n",
    "receptors = sorted(df['receptor'].unique())\n",
    "\n",
    "df['interaction'] = df['interaction'].astype('category').cat.set_categories(interact_with)\n",
    "\n",
    "\n",
    "# Create a pivot table to check for missing interactions\n",
    "pivot_df = df.pivot_table(index=['ligand', 'receptor'], columns='interaction', values='active_in', fill_value=0)\n",
    "\n",
    "# Convert the pivot table back to a dataframe\n",
    "result_df = pivot_df.stack().reset_index()\n",
    "result_df.columns = ['ligand', 'receptor', 'interaction', 'active_in']\n",
    "\n",
    "title = 'Unique ligands: {}, receptors: {}, interactions: {}'.format(\n",
    "    len(result_df['ligand'].unique()),\n",
    "    len(result_df['receptor'].unique()),\n",
    "    len((result_df['ligand']+'_'+result_df['receptor']).unique())\n",
    "    )"
   ]
  },
  {
   "cell_type": "code",
   "execution_count": 17,
   "metadata": {},
   "outputs": [
    {
     "data": {
      "image/png": "[encoded data removed]",
      "text/plain": [
       "<Figure size 288x288 with 1 Axes>"
      ]
     },
     "metadata": {},
     "output_type": "display_data"
    }
   ],
   "source": [
    "\n",
    "# Plot the boxplot\n",
    "\n",
    "sns.set_theme(\n",
    "            style='whitegrid',\n",
    "            font_scale=0.8\n",
    "            )\n",
    "sns.set_palette(palette=sns.color_palette([region_colors_dict[r] for r in interact_with]))\n",
    "\n",
    "fig, ax = plt.subplots(figsize=(4,4))\n",
    "sns.stripplot(result_df,x='interaction',y='active_in',size=4,hue='interaction',ax=ax,legend=False)\n",
    "sns.boxplot(showmeans=False,\n",
    "        meanline=False,\n",
    "        meanprops={'color': 'k', 'ls': '-', 'lw': 2},\n",
    "        medianprops={'visible': True},\n",
    "        whiskerprops={'visible': True},\n",
    "        zorder=10,\n",
    "        x=\"interaction\",\n",
    "        y=\"active_in\",\n",
    "        data=result_df,\n",
    "        showfliers=False,\n",
    "        showbox=True,\n",
    "        showcaps=True,\n",
    "        color='whitesmoke',\n",
    "        width=0.6,\n",
    "        ax=ax)\n",
    "\n",
    "ax.set_ylim(-0.05,1.05)\n",
    "ax.set_xticklabels('')\n",
    "ax.set_title(title)\n",
    "\n",
    "plt.tight_layout()\n",
    "plt.savefig('./plots/receptor_ligand_interaction_analysis/Club_epithelium_as_target_ligrec_pct.pdf')\n",
    "plt.show()\n",
    "\n",
    "result_df['direction'] = 'club_as_target'\n",
    "plot_df = pd.concat([plot_df,result_df],axis=0)\n",
    "plot_df.to_excel('./source_data/figure_4g.xlsx')\n"
   ]
  },
  {
   "cell_type": "code",
   "execution_count": 18,
   "metadata": {},
   "outputs": [],
   "source": [
    "\n",
    "result_df['n_interfaces_with_club'] = result_df['interaction'].map(n_interfaces)  # Add a column with info on the number of interfaces\n",
    "\n",
    "# Calculate p-values for overrepresentation of individual ligand-receptor interactions\n",
    "list_of_pvals = []\n",
    "for i, row in result_df.iterrows():\n",
    "    df = result_df[(result_df['ligand'] == row['ligand']) & (result_df['receptor'] == row['receptor'])]\n",
    "    df = df[~(df['interaction'] ==row['interaction'])]\n",
    "\n",
    "    a = row['active_in'] * row['n_interfaces_with_club']\n",
    "    b = row['n_interfaces_with_club'] - a\n",
    "    c = (df['active_in'] * df['n_interfaces_with_club']).sum()\n",
    "    d = df['n_interfaces_with_club'].sum() - c\n",
    "\n",
    "    arr = np.array([[a,b],[c,d]])\n",
    "    arr\n",
    "\n",
    "    stat, pval = fisher_exact(arr,alternative='greater')\n",
    "\n",
    "    list_of_pvals.append(pval)\n",
    "\n",
    "result_df['overrep_test_adj_pval'] = multipletests(list_of_pvals,method='fdr_bh')[1]\n",
    "\n",
    "result_df = result_df.sort_values('overrep_test_adj_pval',ascending=True).reset_index(drop=True)\n",
    "\n",
    "dict_with_final_ligrec_results['club_as_target'] = result_df\n",
    "\n",
    "# Save the results\n",
    "result_df.to_excel('./source_data/club_as_target_ligand_receptor_activity.xlsx')\n"
   ]
  },
  {
   "cell_type": "code",
   "execution_count": 19,
   "metadata": {},
   "outputs": [
    {
     "name": "stdout",
     "output_type": "stream",
     "text": [
      "Kruskal-Wallis H-test: test statistic = 59.2094, p-value = 0.0000\n",
      "             Category1           Category2      stat       p-value\n",
      "0           Fibroblast    Basal epithelium  5.111546  3.195330e-07\n",
      "1           Fibroblast  Luminal epithelium  5.027397  4.971817e-07\n",
      "2               Muscle    Basal epithelium  4.923679  8.493209e-07\n",
      "3   Luminal epithelium              Muscle -4.344423  1.396424e-05\n",
      "4           Fibroblast               Tumor  4.272016  1.937140e-05\n",
      "5               Immune    Basal epithelium  4.203523  2.627930e-05\n",
      "6   Luminal epithelium              Immune -3.808219  1.399712e-04\n",
      "7               Muscle               Tumor  3.616438  2.986844e-04\n",
      "8               Immune               Tumor  2.788650  5.292828e-03\n",
      "9     Basal epithelium               Tumor -2.146771  3.181151e-02\n",
      "10          Fibroblast              Immune  1.780822  7.494155e-02\n",
      "11  Luminal epithelium               Tumor -1.414873  1.571058e-01\n",
      "12              Immune              Muscle -1.107632  2.680207e-01\n",
      "13          Fibroblast              Muscle  0.743640  4.570943e-01\n",
      "14  Luminal epithelium    Basal epithelium  0.655577  5.120961e-01\n"
     ]
    }
   ],
   "source": [
    "# Perform Kruskal-Wallis H-test\n",
    "interaction_categories = result_df['interaction'].unique()\n",
    "grouped_data = [result_df[result_df['interaction'] == category]['active_in'] for category in interaction_categories]\n",
    "test_statistic, p_value = kruskal(*grouped_data)\n",
    "print(f\"Kruskal-Wallis H-test: test statistic = {test_statistic:.4f}, p-value = {p_value:.4f}\")\n",
    "\n",
    "\n",
    "# Perform pairwise Wilcoxon rank-sums tests\n",
    "interaction_categories = result_df['interaction'].unique()\n",
    "pairwise_tests = list(combinations(interaction_categories, 2))\n",
    "\n",
    "# Collect p-values and test statistics\n",
    "test_results = []\n",
    "for category1, category2 in pairwise_tests:\n",
    "    group1 = result_df[result_df['interaction'] == category1]['active_in']\n",
    "    group2 = result_df[result_df['interaction'] == category2]['active_in']\n",
    "    test_statistic, p_value = ranksums(group1, group2)\n",
    "    test_results.append({'Category1': category1, 'Category2': category2, 'stat': test_statistic, 'p-value': p_value})\n",
    "\n",
    "# Create a dataframe from the test results\n",
    "test_results = pd.DataFrame(test_results).sort_values('p-value').reset_index(drop=True)\n",
    "print(test_results)\n"
   ]
  },
  {
   "cell_type": "code",
   "execution_count": 82,
   "metadata": {},
   "outputs": [],
   "source": [
    "# Save the results\n",
    "pd.concat(club_as_target_ligrec).to_csv('./plots/receptor_ligand_interaction_analysis/{}_as_target_ligand_receptor_results.csv'.format(source.replace(' ','_')))"
   ]
  },
  {
   "cell_type": "markdown",
   "metadata": {},
   "source": [
    "### Save both directions into a single excel table (Supplementary Table S9)"
   ]
  },
  {
   "cell_type": "code",
   "execution_count": 83,
   "metadata": {},
   "outputs": [],
   "source": [
    "# Create a Pandas Excel writer using XlsxWriter as the engine\n",
    "writer = pd.ExcelWriter('./supplementary_tables/club_regions_ligand_receptor_analysis.xlsx', engine='xlsxwriter')\n",
    "\n",
    "# Write each dataframe to a different worksheet\n",
    "for sheet_name, df in dict_with_final_ligrec_results.items():\n",
    "    df.to_excel(writer, sheet_name=sheet_name, index=False)\n",
    "\n",
    "# Close the Pandas Excel writer and output the Excel file\n",
    "writer.save()"
   ]
  },
  {
   "cell_type": "markdown",
   "metadata": {},
   "source": [
    "## Chord diagrams (Figure 4e, 4f)"
   ]
  },
  {
   "cell_type": "code",
   "execution_count": null,
   "metadata": {},
   "outputs": [],
   "source": [
    "#from d3blocks import D3Blocks\n",
    "\n",
    "# Get Club region degs\n",
    "club_markers = check_top_markers('Club epithelium')['gene'].tolist()"
   ]
  },
  {
   "cell_type": "markdown",
   "metadata": {},
   "source": [
    "### Club as source (Fig 4e)"
   ]
  },
  {
   "cell_type": "code",
   "execution_count": null,
   "metadata": {},
   "outputs": [],
   "source": [
    "# Download from Supplementary Table S9\n",
    "club_as_source = pd.read_excel('./supplementary_tables/club_regions_ligand_receptor_analysis.xlsx',sheet_name='club_as_source') \n",
    "\n",
    "club_as_source = club_as_source[club_as_source['ligand'].str.contains('CXCL|CCL')]\n",
    "club_as_source = club_as_source.sort_values(['ligand','receptor'])\n",
    "\n",
    "# Add the weight parameter ()\n",
    "club_as_source['weight'] = club_as_source['active_in'] * club_as_source['n_interfaces_with_club']\n",
    "\n",
    "# Concatenate into a single dataframe for plotting into a single Chord diagram\n",
    "plot_df = club_as_source.groupby(['ligand','receptor']).sum().reset_index(['ligand','receptor'])[['ligand','receptor','weight']]\n",
    "plot_df = plot_df.rename(columns={'ligand':'source','receptor':'target'})\n",
    "\n",
    "plot_df.to_excel('./source_data/figure_4e.xlsx')"
   ]
  },
  {
   "cell_type": "code",
   "execution_count": null,
   "metadata": {},
   "outputs": [],
   "source": [
    "# Plot\n",
    "# Needs access to a browser due to how D3Blocks is built\n",
    "\n",
    "d3 = D3Blocks()\n",
    "d3.chord(plot_df,save_button=True,\n",
    "color='source',\n",
    "ordering=plot_df['source'].unique().tolist() + plot_df['target'].unique().tolist(),\n",
    "title='From club to all',\n",
    "fontsize=30,\n",
    "cmap='viridis',\n",
    "arrowhead=50\n",
    ")\n"
   ]
  },
  {
   "cell_type": "markdown",
   "metadata": {},
   "source": [
    "### Club as target (Fig 4f)"
   ]
  },
  {
   "cell_type": "code",
   "execution_count": null,
   "metadata": {},
   "outputs": [],
   "source": [
    "# Download from Supplementary Table S9\n",
    "club_as_target = pd.read_excel('./supplementary_tables/club_regions_ligand_receptor_analysis.xlsx',sheet_name='club_as_target')\n",
    "\n",
    "# Plot the receptors that are within the top 100 of Club region markers\n",
    "club_as_target = club_as_target[club_as_target['receptor'].isin(club_markers[:100])]\n",
    "club_as_target = club_as_target.sort_values(['ligand','receptor'])\n",
    "\n",
    "# Add the weight parameter ()\n",
    "club_as_target['weight'] = club_as_target['active_in'] * club_as_target['n_interfaces_with_club']\n",
    "\n",
    "# Concatenate into a single dataframe for plotting into a single Chord diagram\n",
    "plot_df = club_as_target.groupby(['ligand','receptor']).sum().reset_index(['ligand','receptor'])[['ligand','receptor','weight']]\n",
    "plot_df = plot_df.rename(columns={'ligand':'source','receptor':'target'})\n",
    "\n",
    "plot_df.to_excel('./source_data/figure_4f.xlsx')"
   ]
  },
  {
   "cell_type": "code",
   "execution_count": null,
   "metadata": {},
   "outputs": [],
   "source": [
    "# Plot\n",
    "# Needs access to a browser due to how D3Blocks is built\n",
    "\n",
    "d3 = D3Blocks()\n",
    "d3.chord(plot_df,save_button=True,\n",
    "color='target',\n",
    "ordering=plot_df['source'].unique().tolist() + plot_df['target'].unique().tolist(),\n",
    "title='From all to club',\n",
    "fontsize=30,\n",
    "cmap='viridis',\n",
    "arrowhead=50\n",
    ")\n"
   ]
  },
  {
   "cell_type": "code",
   "execution_count": null,
   "metadata": {},
   "outputs": [],
   "source": []
  }
 ],
 "metadata": {
  "kernelspec": {
   "display_name": "squidpy",
   "language": "python",
   "name": "python3"
  },
  "language_info": {
   "codemirror_mode": {
    "name": "ipython",
    "version": 3
   },
   "file_extension": ".py",
   "mimetype": "text/x-python",
   "name": "python",
   "nbconvert_exporter": "python",
   "pygments_lexer": "ipython3",
   "version": "3.8.15"
  },
  "orig_nbformat": 4
 },
 "nbformat": 4,
 "nbformat_minor": 2
}
